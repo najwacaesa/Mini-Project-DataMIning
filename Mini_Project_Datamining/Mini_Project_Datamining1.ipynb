{
  "nbformat": 4,
  "nbformat_minor": 0,
  "metadata": {
    "colab": {
      "provenance": [],
      "authorship_tag": "ABX9TyNVEc+XLuREgDwcZWh4HGxK",
      "include_colab_link": true
    },
    "kernelspec": {
      "name": "python3",
      "display_name": "Python 3"
    },
    "language_info": {
      "name": "python"
    }
  },
  "cells": [
    {
      "cell_type": "markdown",
      "metadata": {
        "id": "view-in-github",
        "colab_type": "text"
      },
      "source": [
        "<a href=\"https://colab.research.google.com/github/najwacaesa/Mini-Project-DataMIning-1/blob/main/Mini_Project_Datamining1.ipynb\" target=\"_parent\"><img src=\"https://colab.research.google.com/assets/colab-badge.svg\" alt=\"Open In Colab\"/></a>"
      ]
    },
    {
      "cell_type": "markdown",
      "source": [
        "#**Analisis Penjualan Walmart untuk Mengoptimalkan Strategi Pemasaran**"
      ],
      "metadata": {
        "id": "h42mVQjH2Ahz"
      }
    },
    {
      "cell_type": "markdown",
      "source": [
        "##**Business Understanding**"
      ],
      "metadata": {
        "id": "mMQCKv4l47-x"
      }
    },
    {
      "cell_type": "markdown",
      "source": [
        "###**Business Objective**\n",
        "Tujuan bisnis nya adalah untuk memahami bagaimana analisis data penjualan Walmart dapat mendukung pengambilan keputusan bisnis dan strategi pemasaran yang lebih efektif.\n",
        "\n",
        "###**Assess Situation**\n",
        "Walmart, salah satu retailer terbesar di dunia, menghadapi tekanan persaingan yang meningkat di pasar ritel global. Dalam upaya untuk tetap kompetitif dan mempertahankan pangsa pasar mereka, Walmart ingin meningkatkan efektivitas strategi pemasaran dan pengambilan keputusan mereka dengan memanfaatkan data penjualan yang tersedia\n",
        "\n",
        "###**Data Mining Goals**\n",
        "Tujuan data mining dataset ini yang pertama adalah untuk memahami pola penjualan dan dapat mengidentifikasi factor-faktor penentu penjualan untuk menentukan bagaimana elemen-elemen ini berdampak pada volume penjualan. Selain itu, tujuan data mining lainnya yaitu untuk memprediksi penjualan walmart ke depannya agar dapat membantu walmart dalam perencanaan persediaan, pengelolaan inventaris, dan hal-hal lainnya.\n",
        "\n",
        "###**Project Plan**\n",
        "Hal pertama yang harus dilakukan tentu saja dengan memahami proyek dan dilanjutkan dengan proses pengumpulan serta pemrosesan data. Setelah data diproses dilanjutkan dengan menganalisis data entah dari segi distribusi penjualan, tren penjualan, dan lainnya. Hal selanjutnya adalan pengimplementasian data dari hasil analisis sebelumnya dengan menggunakan stategi yang sesuai. Dan yang terakhir adalh melakukan evaluasi bagaimana kinerja strategi pemasaran dan pengambilan keputusan bisnis sebelumnya."
      ],
      "metadata": {
        "id": "bCL72Tkz6op5"
      }
    }
  ]
}
